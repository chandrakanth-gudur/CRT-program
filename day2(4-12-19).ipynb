{
 "cells": [
  {
   "cell_type": "markdown",
   "metadata": {},
   "source": [
    "# loops:\n",
    "## while condition:\n",
    "### statements"
   ]
  },
  {
   "cell_type": "code",
   "execution_count": 1,
   "metadata": {},
   "outputs": [
    {
     "name": "stdout",
     "output_type": "stream",
     "text": [
      " 10\n",
      "1 2 3 4 5 6 7 8 9 10 "
     ]
    }
   ],
   "source": [
    "# print numbers from 1 to N\n",
    "# input: 10\n",
    "## output: 1 2 3 4 5 ... 10\n",
    "n = int(input(\" \"))\n",
    "i = 1\n",
    "while i<=n:\n",
    "    print(i,end = ' ')\n",
    "    i = i+1"
   ]
  },
  {
   "cell_type": "code",
   "execution_count": 2,
   "metadata": {},
   "outputs": [
    {
     "name": "stdout",
     "output_type": "stream",
     "text": [
      "enter a number123\n",
      "6\n"
     ]
    }
   ],
   "source": [
    "n = int(input(\"enter a number\"))\n",
    "sum = 0\n",
    "while n!=0:\n",
    "    r = n%10\n",
    "    sum = sum+r\n",
    "    n = n//10\n",
    "print(sum)    \n"
   ]
  },
  {
   "cell_type": "code",
   "execution_count": 1,
   "metadata": {},
   "outputs": [
    {
     "name": "stdout",
     "output_type": "stream",
     "text": [
      "enter the number123\n",
      "3 2 1 "
     ]
    }
   ],
   "source": [
    "n = int(input(\"enter the number\"))\n",
    "while n!=0:\n",
    "    r = n%10\n",
    "    print(r,end = ' ')\n",
    "    n = n//10"
   ]
  },
  {
   "cell_type": "code",
   "execution_count": null,
   "metadata": {},
   "outputs": [],
   "source": [
    "n = int(input(\"enter the number\"))\n",
    "while n!=0:\n",
    "    r = n%10\n",
    "    n=n//10\n",
    "    print(r,end = \" \")"
   ]
  },
  {
   "cell_type": "markdown",
   "metadata": {},
   "source": [
    "# for loop\n",
    "# syntax:\n",
    "* - for variable_ name i iterable_obj:\n",
    "  *  _ statements "
   ]
  },
  {
   "cell_type": "code",
   "execution_count": 4,
   "metadata": {},
   "outputs": [
    {
     "name": "stdout",
     "output_type": "stream",
     "text": [
      "1\n",
      "2\n",
      "3\n",
      "4\n",
      "5\n",
      "6\n",
      "7\n",
      "8\n",
      "9\n"
     ]
    }
   ],
   "source": [
    "for i in range(1,10,1):\n",
    "    print(i)"
   ]
  },
  {
   "cell_type": "markdown",
   "metadata": {},
   "source": [
    "# functional programming\n",
    "* - Simple\n",
    "* - Easy to understand\n",
    "* - Better reusability\n",
    "* - Lengthy program can be divided into smaller sub programs"
   ]
  },
  {
   "cell_type": "markdown",
   "metadata": {},
   "source": [
    "## Two types of functions:\n",
    "- user defined function\n",
    "- built -in defined function"
   ]
  },
  {
   "cell_type": "markdown",
   "metadata": {},
   "source": [
    "## syntax:\n",
    "## def function_name(parameters):\n",
    "- statements\n",
    "- return(it can return multiple values at a same time)\n"
   ]
  },
  {
   "cell_type": "code",
   "execution_count": 10,
   "metadata": {},
   "outputs": [
    {
     "ename": "SyntaxError",
     "evalue": "invalid syntax (<ipython-input-10-da58d0ca9f0d>, line 4)",
     "output_type": "error",
     "traceback": [
      "\u001b[1;36m  File \u001b[1;32m\"<ipython-input-10-da58d0ca9f0d>\"\u001b[1;36m, line \u001b[1;32m4\u001b[0m\n\u001b[1;33m    else:\u001b[0m\n\u001b[1;37m       ^\u001b[0m\n\u001b[1;31mSyntaxError\u001b[0m\u001b[1;31m:\u001b[0m invalid syntax\n"
     ]
    }
   ],
   "source": [
    "n = int(input(\" \"))\n",
    "if(n%100==0):\n",
    "    print(\"it is a leap year\")\n",
    "    else:\n",
    "        print(\"it is not a leap year\")\n"
   ]
  },
  {
   "cell_type": "code",
   "execution_count": 13,
   "metadata": {},
   "outputs": [
    {
     "name": "stdout",
     "output_type": "stream",
     "text": [
      "3\n"
     ]
    }
   ],
   "source": [
    "# addition of two numbers\n",
    "def addition(a,b):\n",
    "    c=a+b\n",
    "    print(c)\n",
    "addition(1,2)"
   ]
  },
  {
   "cell_type": "code",
   "execution_count": 2,
   "metadata": {},
   "outputs": [
    {
     "data": {
      "text/plain": [
       "6"
      ]
     },
     "execution_count": 2,
     "metadata": {},
     "output_type": "execute_result"
    }
   ],
   "source": [
    "\n",
    "def evendigitsum(n):\n",
    "    sum = 0\n",
    "    while n!=0:\n",
    "        r = n%10\n",
    "        if r%2==0:\n",
    "            sum = sum+r\n",
    "        n=n//10\n",
    "    return sum\n",
    "evendigitsum(1234)\n",
    "    \n"
   ]
  },
  {
   "cell_type": "code",
   "execution_count": 3,
   "metadata": {},
   "outputs": [
    {
     "data": {
      "text/plain": [
       "3"
      ]
     },
     "execution_count": 3,
     "metadata": {},
     "output_type": "execute_result"
    }
   ],
   "source": [
    "def largenum(n):\n",
    "    large = 0\n",
    "    while n!=0:\n",
    "        r=n%10\n",
    "        if large<r:\n",
    "            large=r\n",
    "        n=n//10\n",
    "    return large\n",
    "largenum(123)\n",
    "            "
   ]
  },
  {
   "cell_type": "code",
   "execution_count": 20,
   "metadata": {},
   "outputs": [
    {
     "name": "stdout",
     "output_type": "stream",
     "text": [
      " 123\n",
      "321\n",
      "not palindrome\n"
     ]
    }
   ],
   "source": [
    "n = int(input(\" \"))\n",
    "sum = 0\n",
    "buffer = n\n",
    "while n!=0:\n",
    "    r=n%10\n",
    "    n=n//10\n",
    "    sum = sum*10 +r\n",
    "print(sum)\n",
    "if sum==buffer:\n",
    "    print(\"palindrome\")\n",
    "else:\n",
    "    print(\"not palindrome\")\n",
    "    "
   ]
  },
  {
   "cell_type": "code",
   "execution_count": null,
   "metadata": {},
   "outputs": [],
   "source": []
  }
 ],
 "metadata": {
  "kernelspec": {
   "display_name": "Python 3",
   "language": "python",
   "name": "python3"
  },
  "language_info": {
   "codemirror_mode": {
    "name": "ipython",
    "version": 3
   },
   "file_extension": ".py",
   "mimetype": "text/x-python",
   "name": "python",
   "nbconvert_exporter": "python",
   "pygments_lexer": "ipython3",
   "version": "3.7.3"
  }
 },
 "nbformat": 4,
 "nbformat_minor": 2
}
